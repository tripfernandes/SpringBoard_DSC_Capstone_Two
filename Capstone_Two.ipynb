{
 "cells": [
  {
   "cell_type": "code",
   "execution_count": 2,
   "metadata": {
    "collapsed": true
   },
   "outputs": [],
   "source": [
    "import pandas as pd"
   ]
  },
  {
   "cell_type": "code",
   "execution_count": 9,
   "outputs": [
    {
     "data": {
      "text/plain": "Index(['index', '1000025', '5', '1', '1.1', '1.2', '2', '1.3', '3', '1.4',\n       '1.5', '2.1'],\n      dtype='object')"
     },
     "execution_count": 9,
     "metadata": {},
     "output_type": "execute_result"
    }
   ],
   "source": [
    "df1 = pd.read_csv('breast-cancer-wisconsin.data.csv')\n",
    "df1.columns"
   ],
   "metadata": {
    "collapsed": false
   }
  },
  {
   "cell_type": "code",
   "execution_count": 10,
   "outputs": [
    {
     "data": {
      "text/plain": "Index(['index', 'Olvi Mangasarian provided the original database in a different format'], dtype='object')"
     },
     "execution_count": 10,
     "metadata": {},
     "output_type": "execute_result"
    }
   ],
   "source": [
    "df2 = pd.read_csv('unformatted-data.csv')\n",
    "df2.columns"
   ],
   "metadata": {
    "collapsed": false
   }
  },
  {
   "cell_type": "code",
   "execution_count": 8,
   "outputs": [
    {
     "data": {
      "text/plain": "Index(['index', '842302', 'M', '17.99', '10.38', '122.8', '1001', '0.1184',\n       '0.2776', '0.3001', '0.1471', '0.2419', '0.07871', '1.095', '0.9053',\n       '8.589', '153.4', '0.006399', '0.04904', '0.05373', '0.01587',\n       '0.03003', '0.006193', '25.38', '17.33', '184.6', '2019', '0.1622',\n       '0.6656', '0.7119', '0.2654', '0.4601', '0.1189'],\n      dtype='object')"
     },
     "execution_count": 8,
     "metadata": {},
     "output_type": "execute_result"
    }
   ],
   "source": [
    "df3 = pd.read_csv('wdbc.data.csv')\n",
    "df3.columns"
   ],
   "metadata": {
    "collapsed": false
   }
  },
  {
   "cell_type": "code",
   "execution_count": 7,
   "outputs": [
    {
     "data": {
      "text/plain": "Index(['index', '119513', 'N', '31', '18.02', '27.6', '117.5', '1013',\n       '0.09489', '0.1036', '0.1086', '0.07055', '0.1865', '0.06333', '0.6249',\n       '1.89', '3.972', '71.55', '0.004433', '0.01421', '0.03233', '0.009854',\n       '0.01694', '0.003495', '21.63', '37.08', '139.7', '1436', '0.1195',\n       '0.1926', '0.314', '0.117', '0.2677', '0.08113', '5', '5.1'],\n      dtype='object')"
     },
     "execution_count": 7,
     "metadata": {},
     "output_type": "execute_result"
    }
   ],
   "source": [
    "df4 = pd.read_csv('wpbc.data.csv')\n",
    "df4.columns"
   ],
   "metadata": {
    "collapsed": false
   }
  },
  {
   "cell_type": "code",
   "execution_count": null,
   "outputs": [],
   "source": [],
   "metadata": {
    "collapsed": false
   }
  }
 ],
 "metadata": {
  "kernelspec": {
   "display_name": "Python 3",
   "language": "python",
   "name": "python3"
  },
  "language_info": {
   "codemirror_mode": {
    "name": "ipython",
    "version": 2
   },
   "file_extension": ".py",
   "mimetype": "text/x-python",
   "name": "python",
   "nbconvert_exporter": "python",
   "pygments_lexer": "ipython2",
   "version": "2.7.6"
  }
 },
 "nbformat": 4,
 "nbformat_minor": 0
}
